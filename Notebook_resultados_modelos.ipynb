{
 "cells": [
  {
   "cell_type": "markdown",
   "metadata": {},
   "source": [
    "# Código de lanzamiento de proyectil a la Luna en lenguaje Python\n",
    "Este código se ha realizado en lenguaje Matlab y se ha traducido a lenguaje Python.\n",
    "\n",
    "Consideremos un proyectil lanzado desde la superficie de la tierra y atraído por la tierra y la luna. La\n",
    "distancia r(t) del proyectil al centro de la tierra en un instante t, satisface el problema de valores iniciales\n",
    "\n",
    "\n",
    "$$\\frac{d^2r}{dt^2} = \\frac{dv}{dt} = -\\frac{GM_t}{r^2} + \\frac{GM_\\ell}{(S-r)^2}$$\n",
    "\n",
    "Siendo la condiciones de contorno del problema: \n",
    "$$r(0) = R$$ \n",
    "$$r′ (0)=v_0$$\n",
    "\n",
    "En esta ecuación diferencial y en el problema en general se van a tener en cuenta una serie de contantes cuyos valores son:\n",
    "\n",
    "$$\n",
    "\\begin{align*}\n",
    "G &\\simeq 6.6726 \\times 10^{-11} \\text{ N}\\text{m}^2/\\text{Kg}^2 \\text{ es la constante de gravitación,} \\\\\n",
    "M_t &\\simeq 5.975 \\times 10^{24} \\text{ Kg} \\text{ es la masa de la tierra,} \\\\\n",
    "M_\\ell &\\simeq 7.35 \\times 10^{22} \\text{ Kg} \\text{ es la masa de la luna,} \\\\\n",
    "R &\\simeq 6.378 \\times 10^6 \\text{ m} \\text{ es el radio de la tierra,} \\\\\n",
    "S &\\simeq 3.844 \\times 10^8 \\text{ m} \\text{ es la distancia entre los centros de la tierra y la luna.}\n",
    "\\end{align*}\n",
    "$$\n",
    "Para alcanzar la luna, el proyectil debe pasar justo por el punto entre la tierra\n",
    "y la luna en el cuál la aceleración se anule. La velocidad de lanzamiento $v_0$ mínima\n",
    "para conseguir ésto viene dada por la relación:\n",
    "\n",
    "$$\n",
    "\\frac{v_0^2}{2} = \\int_R^{r_1} \\left(-\\frac{GM_t}{r^2} + \\frac{GM_\\ell}{(S-r)^2}\\right)dr\n",
    "$$\n",
    "\n",
    "con\n",
    "\n",
    "$$\n",
    "r_1 = S\\frac{\\sqrt{M_t}}{\\sqrt{M_t} + \\sqrt{M_\\ell}}\n",
    "$$"
   ]
  },
  {
   "cell_type": "code",
   "execution_count": 2,
   "metadata": {},
   "outputs": [
    {
     "ename": "ValueError",
     "evalue": "The truth value of an array with more than one element is ambiguous. Use a.any() or a.all()",
     "output_type": "error",
     "traceback": [
      "\u001b[1;31m---------------------------------------------------------------------------\u001b[0m",
      "\u001b[1;31mValueError\u001b[0m                                Traceback (most recent call last)",
      "Cell \u001b[1;32mIn[2], line 16\u001b[0m\n\u001b[0;32m     13\u001b[0m r1 \u001b[38;5;241m=\u001b[39m S \u001b[38;5;241m*\u001b[39m (np\u001b[38;5;241m.\u001b[39msqrt(Mt)\u001b[38;5;241m/\u001b[39m(np\u001b[38;5;241m.\u001b[39msqrt(Mt) \u001b[38;5;241m+\u001b[39m np\u001b[38;5;241m.\u001b[39msqrt(Ml)))\n\u001b[0;32m     14\u001b[0m v0 \u001b[38;5;241m=\u001b[39m np\u001b[38;5;241m.\u001b[39msqrt(\u001b[38;5;241m2\u001b[39m) \u001b[38;5;241m*\u001b[39m np\u001b[38;5;241m.\u001b[39msqrt(G\u001b[38;5;241m*\u001b[39mMt\u001b[38;5;241m/\u001b[39mRt \u001b[38;5;241m-\u001b[39m G\u001b[38;5;241m*\u001b[39mMl\u001b[38;5;241m/\u001b[39m(S\u001b[38;5;241m-\u001b[39mRt) \u001b[38;5;241m-\u001b[39m G\u001b[38;5;241m*\u001b[39mMt\u001b[38;5;241m/\u001b[39mr1 \u001b[38;5;241m+\u001b[39m G\u001b[38;5;241m*\u001b[39mMl\u001b[38;5;241m/\u001b[39m(S\u001b[38;5;241m-\u001b[39mr1))\n\u001b[1;32m---> 16\u001b[0m \u001b[43mmod1\u001b[49m\u001b[38;5;241;43m.\u001b[39;49m\u001b[43mmain\u001b[49m\u001b[43m(\u001b[49m\u001b[43mv0\u001b[49m\u001b[43m)\u001b[49m\n",
      "File \u001b[1;32mc:\\Users\\germa\\OneDrive\\Escritorio\\TFG\\Codigo_modelo_1.py:21\u001b[0m, in \u001b[0;36mmain\u001b[1;34m(v0)\u001b[0m\n\u001b[0;32m     18\u001b[0m t_span \u001b[38;5;241m=\u001b[39m (\u001b[38;5;241m0\u001b[39m, \u001b[38;5;241m400000\u001b[39m)  \u001b[38;5;66;03m# Intervalo de tiempo\u001b[39;00m\n\u001b[0;32m     20\u001b[0m \u001b[38;5;66;03m# Solve IVP\u001b[39;00m\n\u001b[1;32m---> 21\u001b[0m sol \u001b[38;5;241m=\u001b[39m \u001b[43msolve_ivp\u001b[49m\u001b[43m(\u001b[49m\u001b[43mderivadas\u001b[49m\u001b[43m,\u001b[49m\u001b[43mt_span\u001b[49m\u001b[43m,\u001b[49m\u001b[43my0\u001b[49m\u001b[43m,\u001b[49m\u001b[43mmethod\u001b[49m\u001b[38;5;241;43m=\u001b[39;49m\u001b[38;5;124;43m'\u001b[39;49m\u001b[38;5;124;43mRK45\u001b[39;49m\u001b[38;5;124;43m'\u001b[39;49m\u001b[43m,\u001b[49m\u001b[43mrtol\u001b[49m\u001b[38;5;241;43m=\u001b[39;49m\u001b[38;5;241;43m1e-8\u001b[39;49m\u001b[43m,\u001b[49m\u001b[43matol\u001b[49m\u001b[38;5;241;43m=\u001b[39;49m\u001b[38;5;241;43m1e-8\u001b[39;49m\u001b[43m,\u001b[49m\u001b[43mevents\u001b[49m\u001b[38;5;241;43m=\u001b[39;49m\u001b[43mcollision\u001b[49m\u001b[43m)\u001b[49m\n\u001b[0;32m     23\u001b[0m \u001b[38;5;66;03m# Plotting velocity\u001b[39;00m\n\u001b[0;32m     24\u001b[0m plt\u001b[38;5;241m.\u001b[39mfigure(figsize\u001b[38;5;241m=\u001b[39m(\u001b[38;5;241m10\u001b[39m,\u001b[38;5;241m6\u001b[39m))\n",
      "File \u001b[1;32mc:\\Users\\germa\\OneDrive\\Escritorio\\TFG\\.venv\\Lib\\site-packages\\scipy\\integrate\\_ivp\\ivp.py:681\u001b[0m, in \u001b[0;36msolve_ivp\u001b[1;34m(fun, t_span, y0, method, t_eval, dense_output, events, vectorized, args, **options)\u001b[0m\n\u001b[0;32m    678\u001b[0m     sol \u001b[38;5;241m=\u001b[39m solver\u001b[38;5;241m.\u001b[39mdense_output()\n\u001b[0;32m    680\u001b[0m event_count[active_events] \u001b[38;5;241m+\u001b[39m\u001b[38;5;241m=\u001b[39m \u001b[38;5;241m1\u001b[39m\n\u001b[1;32m--> 681\u001b[0m root_indices, roots, terminate \u001b[38;5;241m=\u001b[39m \u001b[43mhandle_events\u001b[49m\u001b[43m(\u001b[49m\n\u001b[0;32m    682\u001b[0m \u001b[43m    \u001b[49m\u001b[43msol\u001b[49m\u001b[43m,\u001b[49m\u001b[43m \u001b[49m\u001b[43mevents\u001b[49m\u001b[43m,\u001b[49m\u001b[43m \u001b[49m\u001b[43mactive_events\u001b[49m\u001b[43m,\u001b[49m\u001b[43m \u001b[49m\u001b[43mevent_count\u001b[49m\u001b[43m,\u001b[49m\u001b[43m \u001b[49m\u001b[43mmax_events\u001b[49m\u001b[43m,\u001b[49m\n\u001b[0;32m    683\u001b[0m \u001b[43m    \u001b[49m\u001b[43mt_old\u001b[49m\u001b[43m,\u001b[49m\u001b[43m \u001b[49m\u001b[43mt\u001b[49m\u001b[43m)\u001b[49m\n\u001b[0;32m    685\u001b[0m \u001b[38;5;28;01mfor\u001b[39;00m e, te \u001b[38;5;129;01min\u001b[39;00m \u001b[38;5;28mzip\u001b[39m(root_indices, roots):\n\u001b[0;32m    686\u001b[0m     t_events[e]\u001b[38;5;241m.\u001b[39mappend(te)\n",
      "File \u001b[1;32mc:\\Users\\germa\\OneDrive\\Escritorio\\TFG\\.venv\\Lib\\site-packages\\scipy\\integrate\\_ivp\\ivp.py:110\u001b[0m, in \u001b[0;36mhandle_events\u001b[1;34m(sol, events, active_events, event_count, max_events, t_old, t)\u001b[0m\n\u001b[0;32m     79\u001b[0m \u001b[38;5;28;01mdef\u001b[39;00m\u001b[38;5;250m \u001b[39m\u001b[38;5;21mhandle_events\u001b[39m(sol, events, active_events, event_count, max_events,\n\u001b[0;32m     80\u001b[0m                   t_old, t):\n\u001b[0;32m     81\u001b[0m \u001b[38;5;250m    \u001b[39m\u001b[38;5;124;03m\"\"\"Helper function to handle events.\u001b[39;00m\n\u001b[0;32m     82\u001b[0m \n\u001b[0;32m     83\u001b[0m \u001b[38;5;124;03m    Parameters\u001b[39;00m\n\u001b[1;32m   (...)\u001b[0m\n\u001b[0;32m    108\u001b[0m \u001b[38;5;124;03m        Whether a terminal event occurred.\u001b[39;00m\n\u001b[0;32m    109\u001b[0m \u001b[38;5;124;03m    \"\"\"\u001b[39;00m\n\u001b[1;32m--> 110\u001b[0m     roots \u001b[38;5;241m=\u001b[39m [\u001b[43msolve_event_equation\u001b[49m\u001b[43m(\u001b[49m\u001b[43mevents\u001b[49m\u001b[43m[\u001b[49m\u001b[43mevent_index\u001b[49m\u001b[43m]\u001b[49m\u001b[43m,\u001b[49m\u001b[43m \u001b[49m\u001b[43msol\u001b[49m\u001b[43m,\u001b[49m\u001b[43m \u001b[49m\u001b[43mt_old\u001b[49m\u001b[43m,\u001b[49m\u001b[43m \u001b[49m\u001b[43mt\u001b[49m\u001b[43m)\u001b[49m\n\u001b[0;32m    111\u001b[0m              \u001b[38;5;28;01mfor\u001b[39;00m event_index \u001b[38;5;129;01min\u001b[39;00m active_events]\n\u001b[0;32m    113\u001b[0m     roots \u001b[38;5;241m=\u001b[39m np\u001b[38;5;241m.\u001b[39masarray(roots)\n\u001b[0;32m    115\u001b[0m     \u001b[38;5;28;01mif\u001b[39;00m np\u001b[38;5;241m.\u001b[39many(event_count[active_events] \u001b[38;5;241m>\u001b[39m\u001b[38;5;241m=\u001b[39m max_events[active_events]):\n",
      "File \u001b[1;32mc:\\Users\\germa\\OneDrive\\Escritorio\\TFG\\.venv\\Lib\\site-packages\\scipy\\integrate\\_ivp\\ivp.py:75\u001b[0m, in \u001b[0;36msolve_event_equation\u001b[1;34m(event, sol, t_old, t)\u001b[0m\n\u001b[0;32m     52\u001b[0m \u001b[38;5;250m\u001b[39m\u001b[38;5;124;03m\"\"\"Solve an equation corresponding to an ODE event.\u001b[39;00m\n\u001b[0;32m     53\u001b[0m \n\u001b[0;32m     54\u001b[0m \u001b[38;5;124;03mThe equation is ``event(t, y(t)) = 0``, here ``y(t)`` is known from an\u001b[39;00m\n\u001b[1;32m   (...)\u001b[0m\n\u001b[0;32m     72\u001b[0m \u001b[38;5;124;03m    Found solution.\u001b[39;00m\n\u001b[0;32m     73\u001b[0m \u001b[38;5;124;03m\"\"\"\u001b[39;00m\n\u001b[0;32m     74\u001b[0m \u001b[38;5;28;01mfrom\u001b[39;00m\u001b[38;5;250m \u001b[39m\u001b[38;5;21;01mscipy\u001b[39;00m\u001b[38;5;21;01m.\u001b[39;00m\u001b[38;5;21;01moptimize\u001b[39;00m\u001b[38;5;250m \u001b[39m\u001b[38;5;28;01mimport\u001b[39;00m brentq\n\u001b[1;32m---> 75\u001b[0m \u001b[38;5;28;01mreturn\u001b[39;00m \u001b[43mbrentq\u001b[49m\u001b[43m(\u001b[49m\u001b[38;5;28;43;01mlambda\u001b[39;49;00m\u001b[43m \u001b[49m\u001b[43mt\u001b[49m\u001b[43m:\u001b[49m\u001b[43m \u001b[49m\u001b[43mevent\u001b[49m\u001b[43m(\u001b[49m\u001b[43mt\u001b[49m\u001b[43m,\u001b[49m\u001b[43m \u001b[49m\u001b[43msol\u001b[49m\u001b[43m(\u001b[49m\u001b[43mt\u001b[49m\u001b[43m)\u001b[49m\u001b[43m)\u001b[49m\u001b[43m,\u001b[49m\u001b[43m \u001b[49m\u001b[43mt_old\u001b[49m\u001b[43m,\u001b[49m\u001b[43m \u001b[49m\u001b[43mt\u001b[49m\u001b[43m,\u001b[49m\n\u001b[0;32m     76\u001b[0m \u001b[43m              \u001b[49m\u001b[43mxtol\u001b[49m\u001b[38;5;241;43m=\u001b[39;49m\u001b[38;5;241;43m4\u001b[39;49m\u001b[43m \u001b[49m\u001b[38;5;241;43m*\u001b[39;49m\u001b[43m \u001b[49m\u001b[43mEPS\u001b[49m\u001b[43m,\u001b[49m\u001b[43m \u001b[49m\u001b[43mrtol\u001b[49m\u001b[38;5;241;43m=\u001b[39;49m\u001b[38;5;241;43m4\u001b[39;49m\u001b[43m \u001b[49m\u001b[38;5;241;43m*\u001b[39;49m\u001b[43m \u001b[49m\u001b[43mEPS\u001b[49m\u001b[43m)\u001b[49m\n",
      "File \u001b[1;32mc:\\Users\\germa\\OneDrive\\Escritorio\\TFG\\.venv\\Lib\\site-packages\\scipy\\optimize\\_zeros_py.py:798\u001b[0m, in \u001b[0;36mbrentq\u001b[1;34m(f, a, b, args, xtol, rtol, maxiter, full_output, disp)\u001b[0m\n\u001b[0;32m    796\u001b[0m     \u001b[38;5;28;01mraise\u001b[39;00m \u001b[38;5;167;01mValueError\u001b[39;00m(\u001b[38;5;124mf\u001b[39m\u001b[38;5;124m\"\u001b[39m\u001b[38;5;124mrtol too small (\u001b[39m\u001b[38;5;132;01m{\u001b[39;00mrtol\u001b[38;5;132;01m:\u001b[39;00m\u001b[38;5;124mg\u001b[39m\u001b[38;5;132;01m}\u001b[39;00m\u001b[38;5;124m < \u001b[39m\u001b[38;5;132;01m{\u001b[39;00m_rtol\u001b[38;5;132;01m:\u001b[39;00m\u001b[38;5;124mg\u001b[39m\u001b[38;5;132;01m}\u001b[39;00m\u001b[38;5;124m)\u001b[39m\u001b[38;5;124m\"\u001b[39m)\n\u001b[0;32m    797\u001b[0m f \u001b[38;5;241m=\u001b[39m _wrap_nan_raise(f)\n\u001b[1;32m--> 798\u001b[0m r \u001b[38;5;241m=\u001b[39m \u001b[43m_zeros\u001b[49m\u001b[38;5;241;43m.\u001b[39;49m\u001b[43m_brentq\u001b[49m\u001b[43m(\u001b[49m\u001b[43mf\u001b[49m\u001b[43m,\u001b[49m\u001b[43m \u001b[49m\u001b[43ma\u001b[49m\u001b[43m,\u001b[49m\u001b[43m \u001b[49m\u001b[43mb\u001b[49m\u001b[43m,\u001b[49m\u001b[43m \u001b[49m\u001b[43mxtol\u001b[49m\u001b[43m,\u001b[49m\u001b[43m \u001b[49m\u001b[43mrtol\u001b[49m\u001b[43m,\u001b[49m\u001b[43m \u001b[49m\u001b[43mmaxiter\u001b[49m\u001b[43m,\u001b[49m\u001b[43m \u001b[49m\u001b[43margs\u001b[49m\u001b[43m,\u001b[49m\u001b[43m \u001b[49m\u001b[43mfull_output\u001b[49m\u001b[43m,\u001b[49m\u001b[43m \u001b[49m\u001b[43mdisp\u001b[49m\u001b[43m)\u001b[49m\n\u001b[0;32m    799\u001b[0m \u001b[38;5;28;01mreturn\u001b[39;00m results_c(full_output, r, \u001b[38;5;124m\"\u001b[39m\u001b[38;5;124mbrentq\u001b[39m\u001b[38;5;124m\"\u001b[39m)\n",
      "File \u001b[1;32mc:\\Users\\germa\\OneDrive\\Escritorio\\TFG\\.venv\\Lib\\site-packages\\scipy\\optimize\\_zeros_py.py:96\u001b[0m, in \u001b[0;36m_wrap_nan_raise.<locals>.f_raise\u001b[1;34m(x, *args)\u001b[0m\n\u001b[0;32m     94\u001b[0m fx \u001b[38;5;241m=\u001b[39m f(x, \u001b[38;5;241m*\u001b[39margs)\n\u001b[0;32m     95\u001b[0m f_raise\u001b[38;5;241m.\u001b[39m_function_calls \u001b[38;5;241m+\u001b[39m\u001b[38;5;241m=\u001b[39m \u001b[38;5;241m1\u001b[39m\n\u001b[1;32m---> 96\u001b[0m \u001b[38;5;28;01mif\u001b[39;00m np\u001b[38;5;241m.\u001b[39misnan(fx):\n\u001b[0;32m     97\u001b[0m     msg \u001b[38;5;241m=\u001b[39m (\u001b[38;5;124mf\u001b[39m\u001b[38;5;124m'\u001b[39m\u001b[38;5;124mThe function value at x=\u001b[39m\u001b[38;5;132;01m{\u001b[39;00mx\u001b[38;5;132;01m}\u001b[39;00m\u001b[38;5;124m is NaN; \u001b[39m\u001b[38;5;124m'\u001b[39m\n\u001b[0;32m     98\u001b[0m            \u001b[38;5;124m'\u001b[39m\u001b[38;5;124msolver cannot continue.\u001b[39m\u001b[38;5;124m'\u001b[39m)\n\u001b[0;32m     99\u001b[0m     err \u001b[38;5;241m=\u001b[39m \u001b[38;5;167;01mValueError\u001b[39;00m(msg)\n",
      "\u001b[1;31mValueError\u001b[0m: The truth value of an array with more than one element is ambiguous. Use a.any() or a.all()"
     ]
    }
   ],
   "source": [
    "import Codigo_modelo_1 as mod1\n",
    "import numpy as np\n",
    "\n",
    "# Constants\n",
    "G = 6.6726e-11\n",
    "Mt = 5.975e24\n",
    "Ml = 7.35e22\n",
    "Rt = 6.378e6\n",
    "Rl = 1.738e6\n",
    "S = 3.844e8\n",
    "\n",
    "# calculation of initial velocity\n",
    "r1 = S * (np.sqrt(Mt)/(np.sqrt(Mt) + np.sqrt(Ml)))\n",
    "v0 = np.sqrt(2) * np.sqrt(G*Mt/Rt - G*Ml/(S-Rt) - G*Mt/r1 + G*Ml/(S-r1))\n",
    "\n",
    "mod1.main(v0)"
   ]
  },
  {
   "cell_type": "markdown",
   "metadata": {},
   "source": [
    "ahora vamos a usar una velocidad mitad de la que sabemos que hace falta"
   ]
  },
  {
   "cell_type": "code",
   "execution_count": null,
   "metadata": {},
   "outputs": [
    {
     "ename": "ValueError",
     "evalue": "The truth value of an array with more than one element is ambiguous. Use a.any() or a.all()",
     "output_type": "error",
     "traceback": [
      "\u001b[1;31m---------------------------------------------------------------------------\u001b[0m",
      "\u001b[1;31mValueError\u001b[0m                                Traceback (most recent call last)",
      "Cell \u001b[1;32mIn[3], line 1\u001b[0m\n\u001b[1;32m----> 1\u001b[0m \u001b[43mmod1\u001b[49m\u001b[38;5;241;43m.\u001b[39;49m\u001b[43mmain\u001b[49m\u001b[43m(\u001b[49m\u001b[38;5;241;43m2\u001b[39;49m\u001b[38;5;241;43m*\u001b[39;49m\u001b[43mv0\u001b[49m\u001b[43m)\u001b[49m\n",
      "File \u001b[1;32mc:\\Users\\germa\\OneDrive\\Escritorio\\TFG\\Codigo_modelo_1.py:21\u001b[0m, in \u001b[0;36mmain\u001b[1;34m(v0)\u001b[0m\n\u001b[0;32m     18\u001b[0m t_span \u001b[38;5;241m=\u001b[39m (\u001b[38;5;241m0\u001b[39m, \u001b[38;5;241m400000\u001b[39m)  \u001b[38;5;66;03m# Intervalo de tiempo\u001b[39;00m\n\u001b[0;32m     20\u001b[0m \u001b[38;5;66;03m# Solve IVP\u001b[39;00m\n\u001b[1;32m---> 21\u001b[0m sol \u001b[38;5;241m=\u001b[39m \u001b[43msolve_ivp\u001b[49m\u001b[43m(\u001b[49m\u001b[43mderivadas\u001b[49m\u001b[43m,\u001b[49m\u001b[43mt_span\u001b[49m\u001b[43m,\u001b[49m\u001b[43my0\u001b[49m\u001b[43m,\u001b[49m\u001b[43mmethod\u001b[49m\u001b[38;5;241;43m=\u001b[39;49m\u001b[38;5;124;43m'\u001b[39;49m\u001b[38;5;124;43mRK45\u001b[39;49m\u001b[38;5;124;43m'\u001b[39;49m\u001b[43m,\u001b[49m\u001b[43mrtol\u001b[49m\u001b[38;5;241;43m=\u001b[39;49m\u001b[38;5;241;43m1e-8\u001b[39;49m\u001b[43m,\u001b[49m\u001b[43matol\u001b[49m\u001b[38;5;241;43m=\u001b[39;49m\u001b[38;5;241;43m1e-8\u001b[39;49m\u001b[43m,\u001b[49m\u001b[43mevents\u001b[49m\u001b[38;5;241;43m=\u001b[39;49m\u001b[43mcollision\u001b[49m\u001b[43m)\u001b[49m\n\u001b[0;32m     23\u001b[0m \u001b[38;5;66;03m# Plotting velocity\u001b[39;00m\n\u001b[0;32m     24\u001b[0m plt\u001b[38;5;241m.\u001b[39mfigure(figsize\u001b[38;5;241m=\u001b[39m(\u001b[38;5;241m10\u001b[39m,\u001b[38;5;241m6\u001b[39m))\n",
      "File \u001b[1;32mc:\\Users\\germa\\OneDrive\\Escritorio\\TFG\\.venv\\Lib\\site-packages\\scipy\\integrate\\_ivp\\ivp.py:681\u001b[0m, in \u001b[0;36msolve_ivp\u001b[1;34m(fun, t_span, y0, method, t_eval, dense_output, events, vectorized, args, **options)\u001b[0m\n\u001b[0;32m    678\u001b[0m     sol \u001b[38;5;241m=\u001b[39m solver\u001b[38;5;241m.\u001b[39mdense_output()\n\u001b[0;32m    680\u001b[0m event_count[active_events] \u001b[38;5;241m+\u001b[39m\u001b[38;5;241m=\u001b[39m \u001b[38;5;241m1\u001b[39m\n\u001b[1;32m--> 681\u001b[0m root_indices, roots, terminate \u001b[38;5;241m=\u001b[39m \u001b[43mhandle_events\u001b[49m\u001b[43m(\u001b[49m\n\u001b[0;32m    682\u001b[0m \u001b[43m    \u001b[49m\u001b[43msol\u001b[49m\u001b[43m,\u001b[49m\u001b[43m \u001b[49m\u001b[43mevents\u001b[49m\u001b[43m,\u001b[49m\u001b[43m \u001b[49m\u001b[43mactive_events\u001b[49m\u001b[43m,\u001b[49m\u001b[43m \u001b[49m\u001b[43mevent_count\u001b[49m\u001b[43m,\u001b[49m\u001b[43m \u001b[49m\u001b[43mmax_events\u001b[49m\u001b[43m,\u001b[49m\n\u001b[0;32m    683\u001b[0m \u001b[43m    \u001b[49m\u001b[43mt_old\u001b[49m\u001b[43m,\u001b[49m\u001b[43m \u001b[49m\u001b[43mt\u001b[49m\u001b[43m)\u001b[49m\n\u001b[0;32m    685\u001b[0m \u001b[38;5;28;01mfor\u001b[39;00m e, te \u001b[38;5;129;01min\u001b[39;00m \u001b[38;5;28mzip\u001b[39m(root_indices, roots):\n\u001b[0;32m    686\u001b[0m     t_events[e]\u001b[38;5;241m.\u001b[39mappend(te)\n",
      "File \u001b[1;32mc:\\Users\\germa\\OneDrive\\Escritorio\\TFG\\.venv\\Lib\\site-packages\\scipy\\integrate\\_ivp\\ivp.py:110\u001b[0m, in \u001b[0;36mhandle_events\u001b[1;34m(sol, events, active_events, event_count, max_events, t_old, t)\u001b[0m\n\u001b[0;32m     79\u001b[0m \u001b[38;5;28;01mdef\u001b[39;00m\u001b[38;5;250m \u001b[39m\u001b[38;5;21mhandle_events\u001b[39m(sol, events, active_events, event_count, max_events,\n\u001b[0;32m     80\u001b[0m                   t_old, t):\n\u001b[0;32m     81\u001b[0m \u001b[38;5;250m    \u001b[39m\u001b[38;5;124;03m\"\"\"Helper function to handle events.\u001b[39;00m\n\u001b[0;32m     82\u001b[0m \n\u001b[0;32m     83\u001b[0m \u001b[38;5;124;03m    Parameters\u001b[39;00m\n\u001b[1;32m   (...)\u001b[0m\n\u001b[0;32m    108\u001b[0m \u001b[38;5;124;03m        Whether a terminal event occurred.\u001b[39;00m\n\u001b[0;32m    109\u001b[0m \u001b[38;5;124;03m    \"\"\"\u001b[39;00m\n\u001b[1;32m--> 110\u001b[0m     roots \u001b[38;5;241m=\u001b[39m [\u001b[43msolve_event_equation\u001b[49m\u001b[43m(\u001b[49m\u001b[43mevents\u001b[49m\u001b[43m[\u001b[49m\u001b[43mevent_index\u001b[49m\u001b[43m]\u001b[49m\u001b[43m,\u001b[49m\u001b[43m \u001b[49m\u001b[43msol\u001b[49m\u001b[43m,\u001b[49m\u001b[43m \u001b[49m\u001b[43mt_old\u001b[49m\u001b[43m,\u001b[49m\u001b[43m \u001b[49m\u001b[43mt\u001b[49m\u001b[43m)\u001b[49m\n\u001b[0;32m    111\u001b[0m              \u001b[38;5;28;01mfor\u001b[39;00m event_index \u001b[38;5;129;01min\u001b[39;00m active_events]\n\u001b[0;32m    113\u001b[0m     roots \u001b[38;5;241m=\u001b[39m np\u001b[38;5;241m.\u001b[39masarray(roots)\n\u001b[0;32m    115\u001b[0m     \u001b[38;5;28;01mif\u001b[39;00m np\u001b[38;5;241m.\u001b[39many(event_count[active_events] \u001b[38;5;241m>\u001b[39m\u001b[38;5;241m=\u001b[39m max_events[active_events]):\n",
      "File \u001b[1;32mc:\\Users\\germa\\OneDrive\\Escritorio\\TFG\\.venv\\Lib\\site-packages\\scipy\\integrate\\_ivp\\ivp.py:75\u001b[0m, in \u001b[0;36msolve_event_equation\u001b[1;34m(event, sol, t_old, t)\u001b[0m\n\u001b[0;32m     52\u001b[0m \u001b[38;5;250m\u001b[39m\u001b[38;5;124;03m\"\"\"Solve an equation corresponding to an ODE event.\u001b[39;00m\n\u001b[0;32m     53\u001b[0m \n\u001b[0;32m     54\u001b[0m \u001b[38;5;124;03mThe equation is ``event(t, y(t)) = 0``, here ``y(t)`` is known from an\u001b[39;00m\n\u001b[1;32m   (...)\u001b[0m\n\u001b[0;32m     72\u001b[0m \u001b[38;5;124;03m    Found solution.\u001b[39;00m\n\u001b[0;32m     73\u001b[0m \u001b[38;5;124;03m\"\"\"\u001b[39;00m\n\u001b[0;32m     74\u001b[0m \u001b[38;5;28;01mfrom\u001b[39;00m\u001b[38;5;250m \u001b[39m\u001b[38;5;21;01mscipy\u001b[39;00m\u001b[38;5;21;01m.\u001b[39;00m\u001b[38;5;21;01moptimize\u001b[39;00m\u001b[38;5;250m \u001b[39m\u001b[38;5;28;01mimport\u001b[39;00m brentq\n\u001b[1;32m---> 75\u001b[0m \u001b[38;5;28;01mreturn\u001b[39;00m \u001b[43mbrentq\u001b[49m\u001b[43m(\u001b[49m\u001b[38;5;28;43;01mlambda\u001b[39;49;00m\u001b[43m \u001b[49m\u001b[43mt\u001b[49m\u001b[43m:\u001b[49m\u001b[43m \u001b[49m\u001b[43mevent\u001b[49m\u001b[43m(\u001b[49m\u001b[43mt\u001b[49m\u001b[43m,\u001b[49m\u001b[43m \u001b[49m\u001b[43msol\u001b[49m\u001b[43m(\u001b[49m\u001b[43mt\u001b[49m\u001b[43m)\u001b[49m\u001b[43m)\u001b[49m\u001b[43m,\u001b[49m\u001b[43m \u001b[49m\u001b[43mt_old\u001b[49m\u001b[43m,\u001b[49m\u001b[43m \u001b[49m\u001b[43mt\u001b[49m\u001b[43m,\u001b[49m\n\u001b[0;32m     76\u001b[0m \u001b[43m              \u001b[49m\u001b[43mxtol\u001b[49m\u001b[38;5;241;43m=\u001b[39;49m\u001b[38;5;241;43m4\u001b[39;49m\u001b[43m \u001b[49m\u001b[38;5;241;43m*\u001b[39;49m\u001b[43m \u001b[49m\u001b[43mEPS\u001b[49m\u001b[43m,\u001b[49m\u001b[43m \u001b[49m\u001b[43mrtol\u001b[49m\u001b[38;5;241;43m=\u001b[39;49m\u001b[38;5;241;43m4\u001b[39;49m\u001b[43m \u001b[49m\u001b[38;5;241;43m*\u001b[39;49m\u001b[43m \u001b[49m\u001b[43mEPS\u001b[49m\u001b[43m)\u001b[49m\n",
      "File \u001b[1;32mc:\\Users\\germa\\OneDrive\\Escritorio\\TFG\\.venv\\Lib\\site-packages\\scipy\\optimize\\_zeros_py.py:798\u001b[0m, in \u001b[0;36mbrentq\u001b[1;34m(f, a, b, args, xtol, rtol, maxiter, full_output, disp)\u001b[0m\n\u001b[0;32m    796\u001b[0m     \u001b[38;5;28;01mraise\u001b[39;00m \u001b[38;5;167;01mValueError\u001b[39;00m(\u001b[38;5;124mf\u001b[39m\u001b[38;5;124m\"\u001b[39m\u001b[38;5;124mrtol too small (\u001b[39m\u001b[38;5;132;01m{\u001b[39;00mrtol\u001b[38;5;132;01m:\u001b[39;00m\u001b[38;5;124mg\u001b[39m\u001b[38;5;132;01m}\u001b[39;00m\u001b[38;5;124m < \u001b[39m\u001b[38;5;132;01m{\u001b[39;00m_rtol\u001b[38;5;132;01m:\u001b[39;00m\u001b[38;5;124mg\u001b[39m\u001b[38;5;132;01m}\u001b[39;00m\u001b[38;5;124m)\u001b[39m\u001b[38;5;124m\"\u001b[39m)\n\u001b[0;32m    797\u001b[0m f \u001b[38;5;241m=\u001b[39m _wrap_nan_raise(f)\n\u001b[1;32m--> 798\u001b[0m r \u001b[38;5;241m=\u001b[39m \u001b[43m_zeros\u001b[49m\u001b[38;5;241;43m.\u001b[39;49m\u001b[43m_brentq\u001b[49m\u001b[43m(\u001b[49m\u001b[43mf\u001b[49m\u001b[43m,\u001b[49m\u001b[43m \u001b[49m\u001b[43ma\u001b[49m\u001b[43m,\u001b[49m\u001b[43m \u001b[49m\u001b[43mb\u001b[49m\u001b[43m,\u001b[49m\u001b[43m \u001b[49m\u001b[43mxtol\u001b[49m\u001b[43m,\u001b[49m\u001b[43m \u001b[49m\u001b[43mrtol\u001b[49m\u001b[43m,\u001b[49m\u001b[43m \u001b[49m\u001b[43mmaxiter\u001b[49m\u001b[43m,\u001b[49m\u001b[43m \u001b[49m\u001b[43margs\u001b[49m\u001b[43m,\u001b[49m\u001b[43m \u001b[49m\u001b[43mfull_output\u001b[49m\u001b[43m,\u001b[49m\u001b[43m \u001b[49m\u001b[43mdisp\u001b[49m\u001b[43m)\u001b[49m\n\u001b[0;32m    799\u001b[0m \u001b[38;5;28;01mreturn\u001b[39;00m results_c(full_output, r, \u001b[38;5;124m\"\u001b[39m\u001b[38;5;124mbrentq\u001b[39m\u001b[38;5;124m\"\u001b[39m)\n",
      "File \u001b[1;32mc:\\Users\\germa\\OneDrive\\Escritorio\\TFG\\.venv\\Lib\\site-packages\\scipy\\optimize\\_zeros_py.py:96\u001b[0m, in \u001b[0;36m_wrap_nan_raise.<locals>.f_raise\u001b[1;34m(x, *args)\u001b[0m\n\u001b[0;32m     94\u001b[0m fx \u001b[38;5;241m=\u001b[39m f(x, \u001b[38;5;241m*\u001b[39margs)\n\u001b[0;32m     95\u001b[0m f_raise\u001b[38;5;241m.\u001b[39m_function_calls \u001b[38;5;241m+\u001b[39m\u001b[38;5;241m=\u001b[39m \u001b[38;5;241m1\u001b[39m\n\u001b[1;32m---> 96\u001b[0m \u001b[38;5;28;01mif\u001b[39;00m np\u001b[38;5;241m.\u001b[39misnan(fx):\n\u001b[0;32m     97\u001b[0m     msg \u001b[38;5;241m=\u001b[39m (\u001b[38;5;124mf\u001b[39m\u001b[38;5;124m'\u001b[39m\u001b[38;5;124mThe function value at x=\u001b[39m\u001b[38;5;132;01m{\u001b[39;00mx\u001b[38;5;132;01m}\u001b[39;00m\u001b[38;5;124m is NaN; \u001b[39m\u001b[38;5;124m'\u001b[39m\n\u001b[0;32m     98\u001b[0m            \u001b[38;5;124m'\u001b[39m\u001b[38;5;124msolver cannot continue.\u001b[39m\u001b[38;5;124m'\u001b[39m)\n\u001b[0;32m     99\u001b[0m     err \u001b[38;5;241m=\u001b[39m \u001b[38;5;167;01mValueError\u001b[39;00m(msg)\n",
      "\u001b[1;31mValueError\u001b[0m: The truth value of an array with more than one element is ambiguous. Use a.any() or a.all()"
     ]
    }
   ],
   "source": [
    "mod1.main(2*v0)"
   ]
  }
 ],
 "metadata": {
  "kernelspec": {
   "display_name": ".venv",
   "language": "python",
   "name": "python3"
  },
  "language_info": {
   "codemirror_mode": {
    "name": "ipython",
    "version": 3
   },
   "file_extension": ".py",
   "mimetype": "text/x-python",
   "name": "python",
   "nbconvert_exporter": "python",
   "pygments_lexer": "ipython3",
   "version": "3.13.2"
  }
 },
 "nbformat": 4,
 "nbformat_minor": 2
}

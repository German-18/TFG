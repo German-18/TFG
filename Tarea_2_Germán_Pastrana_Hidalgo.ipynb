{
 "cells": [
  {
   "cell_type": "markdown",
   "metadata": {},
   "source": [
    "# Descripción física del momento angular\n",
    "El momento angular en mecánica cuántica es una magnitud fundamental que describe la rotación de un sistema. Su significado físico se puede interpretar a partir de la analogía con la mecánica clásica, pero con características distintivas debido a la cuantización.\n",
    "\n",
    "En mecánica clásica, el momento angular $\\mathbf{L}$ de una partícula respecto a un punto de referencia se define como:\n",
    "\n",
    "$\\mathbf{L} = \\mathbf{r} \\times \\mathbf{p}$\n",
    "\n",
    "donde $\\mathbf{r}$ es el vector de posición y $\\mathbf{p}$ el momento lineal. En mecánica cuántica, esta definición se mantiene, pero $\\mathbf{r}$ y $\\mathbf{p}$ se convierten en operadores. \n",
    "\n",
    "En mecánica cuántica, el momento angular total de un sistema no puede tomar cualquier valor continuo, sino que está cuantizado. Los valores posibles del módulo del momento angular total $\\mathbf{L}$ están dados por:\n",
    "\n",
    "$L = \\sqrt{\\ell(\\ell+1)}\\hbar, \\quad \\ell = 0, 1, 2, \\dots$\n",
    "\n",
    "mientras que su componente en una dirección específica (por ejemplo, el eje $z$) está restringida a:\n",
    "\n",
    "$L_z = m\\hbar, \\quad m = -\\ell, -\\ell+1, \\dots, \\ell.$\n",
    "\n",
    "Esta cuantización implica que el momento angular no puede orientarse en cualquier dirección arbitraria, sino solo en ciertos valores discretos.\n",
    "\n",
    "En la mecánica clásica, el momento angular puede apuntar en cualquier dirección, pero en mecánica cuántica solo puede asumir ciertos valores discretos en relación con un eje fijo. No se pueden conocer simultáneamente todas las componentes del momento angular con precisión. Solo se pueden medir simultáneamente $L^2$ y una componente, típicamente $L_z$.\n",
    "\n",
    "Por tanto, el momento angular en mecánica cuántica representa una restricción fundamental en la dinámica de partículas, determinando propiedades clave como la estructura electrónica de los átomos y la estabilidad de sistemas físicos.\n"
   ]
  }
 ],
 "metadata": {
  "kernelspec": {
   "display_name": ".venv",
   "language": "python",
   "name": "python3"
  },
  "language_info": {
   "name": "python",
   "version": "3.13.2"
  }
 },
 "nbformat": 4,
 "nbformat_minor": 2
}

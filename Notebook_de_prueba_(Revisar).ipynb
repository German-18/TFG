{
 "cells": [
  {
   "cell_type": "markdown",
   "metadata": {},
   "source": [
    "# Código de lanzamiento de proyectil a la Luna en lenguaje Python\n",
    "Este código se ha realizado en lenguaje Matlab y se ha traducido a lenguaje Python.\n",
    "\n",
    "Consideremos un proyectil lanzado desde la superficie de la tierra y atraído por la tierra y la luna. La\n",
    "distancia r(t) del proyectil al centro de la tierra en un instante t, satisface el problema de valores iniciales\n",
    "\n",
    "\n",
    "$$\\frac{d^2r}{dt^2} = \\frac{dv}{dt} = -\\frac{GM_t}{r^2} + \\frac{GM_\\ell}{(S-r)^2}$$\n",
    "\n",
    "Siendo la condiciones de contorno del problema: \n",
    "$$r(0) = R$$ \n",
    "$$r′ (0)=v_0$$\n",
    "\n",
    "En esta ecuación diferencial y en el problema en general se van a tener en cuenta una serie de contantes cuyos valores son:\n",
    "\n",
    "$$\n",
    "\\begin{align*}\n",
    "G &\\simeq 6.6726 \\times 10^{-11} \\text{ N}\\text{m}^2/\\text{Kg}^2 \\text{ es la constante de gravitación,} \\\\\n",
    "M_t &\\simeq 5.975 \\times 10^{24} \\text{ Kg} \\text{ es la masa de la tierra,} \\\\\n",
    "M_\\ell &\\simeq 7.35 \\times 10^{22} \\text{ Kg} \\text{ es la masa de la luna,} \\\\\n",
    "R &\\simeq 6.378 \\times 10^6 \\text{ m} \\text{ es el radio de la tierra,} \\\\\n",
    "S &\\simeq 3.844 \\times 10^8 \\text{ m} \\text{ es la distancia entre los centros de la tierra y la luna.}\n",
    "\\end{align*}\n",
    "$$\n",
    "Para alcanzar la luna, el proyectil debe pasar justo por el punto entre la tierra\n",
    "y la luna en el cuál la aceleración se anule. La velocidad de lanzamiento $v_0$ mínima\n",
    "para conseguir ésto viene dada por la relación:\n",
    "\n",
    "$$\n",
    "\\frac{v_0^2}{2} = \\int_R^{r_1} \\left(-\\frac{GM_t}{r^2} + \\frac{GM_\\ell}{(S-r)^2}\\right)dr\n",
    "$$\n",
    "\n",
    "con\n",
    "\n",
    "$$\n",
    "r_1 = S\\frac{\\sqrt{M_t}}{\\sqrt{M_t} + \\sqrt{M_\\ell}}\n",
    "$$"
   ]
  },
  {
   "cell_type": "code",
   "execution_count": 1,
   "metadata": {},
   "outputs": [
    {
     "name": "stdout",
     "output_type": "stream",
     "text": [
      "Hello World\n"
     ]
    }
   ],
   "source": [
    "# Basic Print Statement\n",
    "\n",
    "# The simplest way to print 'Hello World' in Python is by using the print() function.\n",
    "# The print() function outputs the specified message to the screen or other standard output device.\n",
    "\n",
    "print(\"Hello World\")  # This will print 'Hello World' to the console."
   ]
  },
  {
   "cell_type": "markdown",
   "metadata": {},
   "source": [
    "# String Formatting Methods\n",
    "Show different ways to format the 'Hello World' message using f-strings, .format(), and %-formatting."
   ]
  },
  {
   "cell_type": "code",
   "execution_count": 2,
   "metadata": {},
   "outputs": [
    {
     "name": "stdout",
     "output_type": "stream",
     "text": [
      "Hello World\n",
      "Hello World\n",
      "Hello World\n"
     ]
    }
   ],
   "source": [
    "# String Formatting Methods\n",
    "\n",
    "# Using f-strings (formatted string literals)\n",
    "# f-strings provide a way to embed expressions inside string literals, using curly braces {}.\n",
    "name = \"World\"\n",
    "print(f\"Hello {name}\")  # This will print 'Hello World' to the console.\n",
    "\n",
    "# Using the .format() method\n",
    "# The .format() method allows you to format selected parts of a string.\n",
    "print(\"Hello {}\".format(name))  # This will print 'Hello World' to the console.\n",
    "\n",
    "# Using %-formatting\n",
    "# %-formatting is an older method that uses the % operator to format strings.\n",
    "print(\"Hello %s\" % name)  # This will print 'Hello World' to the console."
   ]
  },
  {
   "cell_type": "markdown",
   "metadata": {},
   "source": [
    "# Comments and Documentation\n",
    "Explain the use of single-line comments (#), multi-line comments ('''), and docstrings for documentation."
   ]
  },
  {
   "cell_type": "code",
   "execution_count": 3,
   "metadata": {},
   "outputs": [
    {
     "name": "stdout",
     "output_type": "stream",
     "text": [
      "Hello World\n",
      "Hello World\n",
      "Hello World\n"
     ]
    }
   ],
   "source": [
    "# Comments and Documentation\n",
    "\n",
    "# Single-line comments start with the hash character (#) and extend to the end of the line.\n",
    "# They are used to explain code and make it more readable.\n",
    "\n",
    "# This is a single-line comment explaining the print statement below\n",
    "print(\"Hello World\")  # This prints 'Hello World' to the console.\n",
    "\n",
    "# Multi-line comments can be created using triple quotes (''' or \"\"\").\n",
    "# They are often used for longer explanations or to comment out blocks of code.\n",
    "\n",
    "'''\n",
    "This is a multi-line comment.\n",
    "It can span multiple lines.\n",
    "Useful for longer explanations or temporarily disabling code blocks.\n",
    "'''\n",
    "print(\"Hello World\")  # This prints 'Hello World' to the console.\n",
    "\n",
    "# Docstrings are a type of comment used to document modules, classes, and functions.\n",
    "# They are written using triple quotes and are placed immediately after the definition of a function, method, class, or module.\n",
    "\n",
    "def greet():\n",
    "    \"\"\"\n",
    "    This is a docstring.\n",
    "    The greet function prints 'Hello World' to the console.\n",
    "    \"\"\"\n",
    "    print(\"Hello World\")\n",
    "\n",
    "# Calling the greet function to demonstrate the use of a docstring\n",
    "greet()  # This will print 'Hello World' to the console."
   ]
  },
  {
   "cell_type": "markdown",
   "metadata": {},
   "source": [
    "# Multiple Print Variations\n",
    "Show different variations of printing 'Hello World' with various parameters of the print() function."
   ]
  },
  {
   "cell_type": "code",
   "execution_count": 4,
   "metadata": {},
   "outputs": [
    {
     "name": "stdout",
     "output_type": "stream",
     "text": [
      "Hello-World\n",
      "Hello World\n",
      "Hello\n",
      "World\n",
      "Hello World\n",
      "Hello\\nWorld\n"
     ]
    }
   ],
   "source": [
    "# Multiple Print Variations\n",
    "\n",
    "# Using the sep parameter\n",
    "# The sep parameter in the print() function specifies the separator between multiple values.\n",
    "print(\"Hello\", \"World\", sep=\"-\")  # This will print 'Hello-World' to the console.\n",
    "\n",
    "# Using the end parameter\n",
    "# The end parameter in the print() function specifies what to print at the end.\n",
    "print(\"Hello\", end=\" \")  # This will print 'Hello ' (with a space at the end) to the console.\n",
    "print(\"World\")  # This will print 'World' immediately after 'Hello '.\n",
    "\n",
    "# Printing to a file\n",
    "# The file parameter in the print() function specifies the file to which the output should be written.\n",
    "with open(\"hello_world.txt\", \"w\") as file:\n",
    "    print(\"Hello World\", file=file)  # This will write 'Hello World' to the file 'hello_world.txt'.\n",
    "\n",
    "# Using escape characters\n",
    "# Escape characters allow you to include special characters in strings.\n",
    "print(\"Hello\\nWorld\")  # This will print 'Hello' and 'World' on separate lines.\n",
    "\n",
    "# Printing Unicode characters\n",
    "# You can print Unicode characters using their Unicode code points.\n",
    "print(\"\\u0048\\u0065\\u006C\\u006C\\u006F \\u0057\\u006F\\u0072\\u006C\\u0064\")  # This will print 'Hello World' to the console.\n",
    "\n",
    "# Printing raw strings\n",
    "# Raw strings treat backslashes as literal characters.\n",
    "print(r\"Hello\\nWorld\")  # This will print 'Hello\\nWorld' (without interpreting \\n as a newline character)."
   ]
  }
 ],
 "metadata": {
  "kernelspec": {
   "display_name": ".venv",
   "language": "python",
   "name": "python3"
  },
  "language_info": {
   "codemirror_mode": {
    "name": "ipython",
    "version": 3
   },
   "file_extension": ".py",
   "mimetype": "text/x-python",
   "name": "python",
   "nbconvert_exporter": "python",
   "pygments_lexer": "ipython3",
   "version": "3.13.2"
  }
 },
 "nbformat": 4,
 "nbformat_minor": 2
}

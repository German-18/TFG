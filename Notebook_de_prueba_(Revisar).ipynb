{
 "cells": [
  {
   "cell_type": "markdown",
   "metadata": {},
   "source": [
    "# Código de lanzamiento de proyectil a la Luna en lenguaje Python\n",
    "Este código se ha realizado en lenguaje Matlab y se ha traducido a lenguaje Python.\n",
    "\n",
    "Consideremos un proyectil lanzado desde la superficie de la tierra y atraído por la tierra y la luna. La\n",
    "distancia r(t) del proyectil al centro de la tierra en un instante t, satisface el problema de valores iniciales\n",
    "\n",
    "\n",
    "$$\\frac{d^2r}{dt^2} = \\frac{dv}{dt} = -\\frac{GM_t}{r^2} + \\frac{GM_\\ell}{(S-r)^2}$$\n",
    "\n",
    "Siendo la condiciones de contorno del problema: \n",
    "$$r(0) = R$$ \n",
    "$$r′ (0)=v_0$$\n",
    "\n",
    "En esta ecuación diferencial y en el problema en general se van a tener en cuenta una serie de contantes cuyos valores son:\n",
    "\n",
    "$$\n",
    "\\begin{align*}\n",
    "G &\\simeq 6.6726 \\times 10^{-11} \\text{ N}\\text{m}^2/\\text{Kg}^2 \\text{ es la constante de gravitación,} \\\\\n",
    "M_t &\\simeq 5.975 \\times 10^{24} \\text{ Kg} \\text{ es la masa de la tierra,} \\\\\n",
    "M_\\ell &\\simeq 7.35 \\times 10^{22} \\text{ Kg} \\text{ es la masa de la luna,} \\\\\n",
    "R &\\simeq 6.378 \\times 10^6 \\text{ m} \\text{ es el radio de la tierra,} \\\\\n",
    "S &\\simeq 3.844 \\times 10^8 \\text{ m} \\text{ es la distancia entre los centros de la tierra y la luna.}\n",
    "\\end{align*}\n",
    "$$\n",
    "Para alcanzar la luna, el proyectil debe pasar justo por el punto entre la tierra\n",
    "y la luna en el cuál la aceleración se anule. La velocidad de lanzamiento $v_0$ mínima\n",
    "para conseguir ésto viene dada por la relación:\n",
    "\n",
    "$$\n",
    "\\frac{v_0^2}{2} = \\int_R^{r_1} \\left(-\\frac{GM_t}{r^2} + \\frac{GM_\\ell}{(S-r)^2}\\right)dr\n",
    "$$\n",
    "\n",
    "con\n",
    "\n",
    "$$\n",
    "r_1 = S\\frac{\\sqrt{M_t}}{\\sqrt{M_t} + \\sqrt{M_\\ell}}\n",
    "$$"
   ]
  }
 ],
 "metadata": {
  "kernelspec": {
   "display_name": ".venv",
   "language": "python",
   "name": "python3"
  },
  "language_info": {
   "codemirror_mode": {
    "name": "ipython",
    "version": 3
   },
   "file_extension": ".py",
   "mimetype": "text/x-python",
   "name": "python",
   "nbconvert_exporter": "python",
   "pygments_lexer": "ipython3",
   "version": "3.13.2"
  }
 },
 "nbformat": 4,
 "nbformat_minor": 2
}
